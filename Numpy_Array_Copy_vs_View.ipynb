{
  "nbformat": 4,
  "nbformat_minor": 0,
  "metadata": {
    "colab": {
      "provenance": [],
      "authorship_tag": "ABX9TyMtULUMk+alP+WTM+jwc+OH",
      "include_colab_link": true
    },
    "kernelspec": {
      "name": "python3",
      "display_name": "Python 3"
    },
    "language_info": {
      "name": "python"
    }
  },
  "cells": [
    {
      "cell_type": "markdown",
      "metadata": {
        "id": "view-in-github",
        "colab_type": "text"
      },
      "source": [
        "<a href=\"https://colab.research.google.com/github/rrankawat/numpy-basic/blob/main/Numpy_Array_Copy_vs_View.ipynb\" target=\"_parent\"><img src=\"https://colab.research.google.com/assets/colab-badge.svg\" alt=\"Open In Colab\"/></a>"
      ]
    },
    {
      "cell_type": "markdown",
      "source": [
        "Numpy Array Copy vs View - Numpy For Machine Learning 4"
      ],
      "metadata": {
        "id": "VLgYsv1BcDNW"
      }
    },
    {
      "cell_type": "code",
      "execution_count": 9,
      "metadata": {
        "colab": {
          "base_uri": "https://localhost:8080/"
        },
        "id": "ZL8Z75p1cBXw",
        "outputId": "390723ba-2132-4851-f1fb-50f92d0b6f66"
      },
      "outputs": [
        {
          "output_type": "stream",
          "name": "stdout",
          "text": [
            "Original np1 [0 1 2 3 4 5]\n",
            "Original np2 [0 1 2 3 4 5]\n"
          ]
        }
      ],
      "source": [
        "import numpy as np\n",
        "\n",
        "np1 = np.array([0, 1, 2, 3, 4, 5])\n",
        "\n",
        "# Create a view\n",
        "np2 = np1.view()\n",
        "\n",
        "print(f'Original np1 {np1}') # [0 1 2 3 4 5]\n",
        "print(f'Original np2 {np2}') # [0 1 2 3 4 5]"
      ]
    },
    {
      "cell_type": "code",
      "source": [
        "np2[0] = 41\n",
        "print(f'Original np1 {np1}') # [41  1  2  3  4  5]\n",
        "print(f'Original np2 {np2}') # [41  1  2  3  4  5]"
      ],
      "metadata": {
        "colab": {
          "base_uri": "https://localhost:8080/"
        },
        "id": "dv2llDh9dQhU",
        "outputId": "8b219a10-e39f-4e90-e1fc-2f121f2c94aa"
      },
      "execution_count": 10,
      "outputs": [
        {
          "output_type": "stream",
          "name": "stdout",
          "text": [
            "Original np1 [41  1  2  3  4  5]\n",
            "Original np2 [41  1  2  3  4  5]\n"
          ]
        }
      ]
    },
    {
      "cell_type": "code",
      "source": [
        "# Create a Copy\n",
        "# np2 = np1.copy()\n",
        "\n",
        "# print(f'Original np1 {np1}')\n",
        "# print(f'Original np2 {np2}')"
      ],
      "metadata": {
        "colab": {
          "base_uri": "https://localhost:8080/"
        },
        "id": "k8KOOQ0IdqRg",
        "outputId": "3a76083f-d2fc-49c3-9523-eec6b0d49504"
      },
      "execution_count": 7,
      "outputs": [
        {
          "output_type": "stream",
          "name": "stdout",
          "text": [
            "Original np1 [0 1 2 3 4 5]\n",
            "Original np2 [0 1 2 3 4 5]\n"
          ]
        }
      ]
    },
    {
      "cell_type": "code",
      "source": [
        "# np1[0] = 41\n",
        "\n",
        "# print(f'Original np1 {np1}')\n",
        "# print(f'Original np2 {np2}')"
      ],
      "metadata": {
        "colab": {
          "base_uri": "https://localhost:8080/"
        },
        "id": "-lBhV6nUdqIg",
        "outputId": "4d70240f-a93a-48aa-f13b-e0bfe3922670"
      },
      "execution_count": 8,
      "outputs": [
        {
          "output_type": "stream",
          "name": "stdout",
          "text": [
            "Original np1 [41  1  2  3  4  5]\n",
            "Original np2 [0 1 2 3 4 5]\n"
          ]
        }
      ]
    }
  ]
}