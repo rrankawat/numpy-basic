{
  "nbformat": 4,
  "nbformat_minor": 0,
  "metadata": {
    "colab": {
      "provenance": [],
      "authorship_tag": "ABX9TyMUnz9QqpReAY6Grksn1dwy",
      "include_colab_link": true
    },
    "kernelspec": {
      "name": "python3",
      "display_name": "Python 3"
    },
    "language_info": {
      "name": "python"
    }
  },
  "cells": [
    {
      "cell_type": "markdown",
      "metadata": {
        "id": "view-in-github",
        "colab_type": "text"
      },
      "source": [
        "<a href=\"https://colab.research.google.com/github/rrankawat/numpy-basic/blob/main/intro_to_numpy.ipynb\" target=\"_parent\"><img src=\"https://colab.research.google.com/assets/colab-badge.svg\" alt=\"Open In Colab\"/></a>"
      ]
    },
    {
      "cell_type": "markdown",
      "source": [
        "# Intro To Numpy - Numpy For Machine Learning 1\n",
        "[YouTube](https://youtube.com/playlist?list=PLCC34OHNcOtpalASMlX2HHdsLNipyyhbK&si=tZHaRo6tj2S2Zr36)"
      ],
      "metadata": {
        "id": "htvM3xweoAFs"
      }
    },
    {
      "cell_type": "code",
      "execution_count": 14,
      "metadata": {
        "colab": {
          "base_uri": "https://localhost:8080/"
        },
        "id": "afLQBOzS_uwW",
        "outputId": "0bb8a21f-2883-43ea-dd69-9b0cc0e89960"
      },
      "outputs": [
        {
          "output_type": "execute_result",
          "data": {
            "text/plain": [
              "['John Elder', 41, [1, 2, 3, 4, 5], True]"
            ]
          },
          "metadata": {},
          "execution_count": 14
        }
      ],
      "source": [
        "# Basic Python List\n",
        "list1 = [1, 2, 3, 4, 5]\n",
        "list1\n",
        "list1[0]\n",
        "\n",
        "list2 = [\"John Elder\", 41, list1, True]\n",
        "list2"
      ]
    },
    {
      "cell_type": "code",
      "source": [
        "# Numpy - Numeric Python\n",
        "# data type: ndarray (n dimensional array)\n",
        "\n",
        "import numpy as np\n",
        "\n",
        "np1 = np.array([0, 1, 2, 3, 4, 5, 6, 7, 8, 9])\n",
        "np1\n",
        "np1.shape"
      ],
      "metadata": {
        "colab": {
          "base_uri": "https://localhost:8080/"
        },
        "id": "b-IKOwrCk0kE",
        "outputId": "c7c6002e-ee93-4a9e-de15-57bb8d9d314c"
      },
      "execution_count": 13,
      "outputs": [
        {
          "output_type": "execute_result",
          "data": {
            "text/plain": [
              "(10,)"
            ]
          },
          "metadata": {},
          "execution_count": 13
        }
      ]
    },
    {
      "cell_type": "code",
      "source": [
        "# Arange\n",
        "np2 = np.arange(10)\n",
        "np2"
      ],
      "metadata": {
        "colab": {
          "base_uri": "https://localhost:8080/"
        },
        "id": "7OcXryqOnuSw",
        "outputId": "d122c226-d834-43a9-8da9-d118a676ecc9"
      },
      "execution_count": 15,
      "outputs": [
        {
          "output_type": "execute_result",
          "data": {
            "text/plain": [
              "array([0, 1, 2, 3, 4, 5, 6, 7, 8, 9])"
            ]
          },
          "metadata": {},
          "execution_count": 15
        }
      ]
    },
    {
      "cell_type": "code",
      "source": [
        "# Step\n",
        "np3 = np.arange(0, 10, 2)\n",
        "np3"
      ],
      "metadata": {
        "colab": {
          "base_uri": "https://localhost:8080/"
        },
        "id": "Fipuw7WSnv_p",
        "outputId": "903d8bb9-bb48-4306-86d6-a8631fd7f539"
      },
      "execution_count": 16,
      "outputs": [
        {
          "output_type": "execute_result",
          "data": {
            "text/plain": [
              "array([0, 2, 4, 6, 8])"
            ]
          },
          "metadata": {},
          "execution_count": 16
        }
      ]
    },
    {
      "cell_type": "code",
      "source": [
        "# Zeros\n",
        "np4 = np.zeros(10)\n",
        "np4"
      ],
      "metadata": {
        "colab": {
          "base_uri": "https://localhost:8080/"
        },
        "id": "Vu_dmi5enxOx",
        "outputId": "0e1138d9-435c-43d5-e50d-7bdf9f3cd276"
      },
      "execution_count": 17,
      "outputs": [
        {
          "output_type": "execute_result",
          "data": {
            "text/plain": [
              "array([0., 0., 0., 0., 0., 0., 0., 0., 0., 0.])"
            ]
          },
          "metadata": {},
          "execution_count": 17
        }
      ]
    },
    {
      "cell_type": "code",
      "source": [
        "# Multidimensional Zeros\n",
        "np5 = np.zeros((2, 10))\n",
        "np5"
      ],
      "metadata": {
        "colab": {
          "base_uri": "https://localhost:8080/"
        },
        "id": "QwqyKkFCotWG",
        "outputId": "b152c4ce-820c-4345-c567-7bd5d8336de2"
      },
      "execution_count": 23,
      "outputs": [
        {
          "output_type": "execute_result",
          "data": {
            "text/plain": [
              "array([[0., 0., 0., 0., 0., 0., 0., 0., 0., 0.],\n",
              "       [0., 0., 0., 0., 0., 0., 0., 0., 0., 0.]])"
            ]
          },
          "metadata": {},
          "execution_count": 23
        }
      ]
    },
    {
      "cell_type": "code",
      "source": [
        "# Full\n",
        "np6 = np.full((10), 6)\n",
        "np6"
      ],
      "metadata": {
        "colab": {
          "base_uri": "https://localhost:8080/"
        },
        "id": "V7Y2YvUdpCPc",
        "outputId": "4709960b-34f4-4dc3-bb2d-f4e31fbb0ce3"
      },
      "execution_count": 19,
      "outputs": [
        {
          "output_type": "execute_result",
          "data": {
            "text/plain": [
              "array([6, 6, 6, 6, 6, 6, 6, 6, 6, 6])"
            ]
          },
          "metadata": {},
          "execution_count": 19
        }
      ]
    },
    {
      "cell_type": "code",
      "source": [
        "# Multidimensional Full\n",
        "np7 = np.full((2, 10), 6)\n",
        "np7"
      ],
      "metadata": {
        "colab": {
          "base_uri": "https://localhost:8080/"
        },
        "id": "6AVXBHCPpOTV",
        "outputId": "639fd016-acfd-4541-83c5-14b740a3883b"
      },
      "execution_count": 21,
      "outputs": [
        {
          "output_type": "execute_result",
          "data": {
            "text/plain": [
              "array([[6, 6, 6, 6, 6, 6, 6, 6, 6, 6],\n",
              "       [6, 6, 6, 6, 6, 6, 6, 6, 6, 6]])"
            ]
          },
          "metadata": {},
          "execution_count": 21
        }
      ]
    },
    {
      "cell_type": "code",
      "source": [
        "# Convert Python List to np\n",
        "my_list = [1, 2, 3, 4, 5]\n",
        "np8 = np.array(my_list)\n",
        "np8"
      ],
      "metadata": {
        "colab": {
          "base_uri": "https://localhost:8080/"
        },
        "id": "VelyKPDHpr98",
        "outputId": "2b722938-2ce7-4bef-d1fe-32d15d9e0839"
      },
      "execution_count": 24,
      "outputs": [
        {
          "output_type": "execute_result",
          "data": {
            "text/plain": [
              "array([1, 2, 3, 4, 5])"
            ]
          },
          "metadata": {},
          "execution_count": 24
        }
      ]
    }
  ]
}