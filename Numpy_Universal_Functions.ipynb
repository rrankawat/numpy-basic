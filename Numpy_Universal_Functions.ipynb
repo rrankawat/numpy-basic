{
  "nbformat": 4,
  "nbformat_minor": 0,
  "metadata": {
    "colab": {
      "provenance": [],
      "authorship_tag": "ABX9TyMFTXwsd5T2soqZ62fCI+KN",
      "include_colab_link": true
    },
    "kernelspec": {
      "name": "python3",
      "display_name": "Python 3"
    },
    "language_info": {
      "name": "python"
    }
  },
  "cells": [
    {
      "cell_type": "markdown",
      "metadata": {
        "id": "view-in-github",
        "colab_type": "text"
      },
      "source": [
        "<a href=\"https://colab.research.google.com/github/rrankawat/numpy-basic/blob/main/Numpy_Universal_Functions.ipynb\" target=\"_parent\"><img src=\"https://colab.research.google.com/assets/colab-badge.svg\" alt=\"Open In Colab\"/></a>"
      ]
    },
    {
      "cell_type": "markdown",
      "source": [
        "# Numpy Universal Functions - Numpy For Machine Learning 3"
      ],
      "metadata": {
        "id": "Rg-48D-VR8eS"
      }
    },
    {
      "cell_type": "code",
      "execution_count": 4,
      "metadata": {
        "colab": {
          "base_uri": "https://localhost:8080/"
        },
        "id": "kUKqb8jfR1tZ",
        "outputId": "80eafa8b-f11d-490e-859b-71caaf488d65"
      },
      "outputs": [
        {
          "output_type": "stream",
          "name": "stderr",
          "text": [
            "<ipython-input-4-49ad71c72efb>:6: RuntimeWarning: invalid value encountered in sqrt\n",
            "  np.sqrt(np1)\n"
          ]
        },
        {
          "output_type": "execute_result",
          "data": {
            "text/plain": [
              "array([       nan,        nan,        nan, 0.        , 1.        ,\n",
              "       1.41421356, 1.73205081, 2.        , 2.23606798, 2.44948974,\n",
              "       2.64575131, 2.82842712, 3.        ])"
            ]
          },
          "metadata": {},
          "execution_count": 4
        }
      ],
      "source": [
        "import numpy as np\n",
        "\n",
        "np1 = np.array([-3, -2, -1, 0, 1, 2, 3, 4, 5, 6, 7, 8, 9])\n",
        "\n",
        "# Square root of each element\n",
        "np.sqrt(np1)"
      ]
    },
    {
      "cell_type": "code",
      "source": [
        "# Absolute value\n",
        "np.absolute(np1)"
      ],
      "metadata": {
        "colab": {
          "base_uri": "https://localhost:8080/"
        },
        "id": "mOKl8W6bVZ8t",
        "outputId": "21e3b97b-f7ae-4785-8d45-2da0255ab62e"
      },
      "execution_count": 5,
      "outputs": [
        {
          "output_type": "execute_result",
          "data": {
            "text/plain": [
              "array([3, 2, 1, 0, 1, 2, 3, 4, 5, 6, 7, 8, 9])"
            ]
          },
          "metadata": {},
          "execution_count": 5
        }
      ]
    },
    {
      "cell_type": "code",
      "source": [
        "# Exponential\n",
        "np.exp(np1)"
      ],
      "metadata": {
        "colab": {
          "base_uri": "https://localhost:8080/"
        },
        "id": "020YTze0WQMk",
        "outputId": "54875b3a-b0f2-477b-9f8c-2e16da55bf36"
      },
      "execution_count": 6,
      "outputs": [
        {
          "output_type": "execute_result",
          "data": {
            "text/plain": [
              "array([4.97870684e-02, 1.35335283e-01, 3.67879441e-01, 1.00000000e+00,\n",
              "       2.71828183e+00, 7.38905610e+00, 2.00855369e+01, 5.45981500e+01,\n",
              "       1.48413159e+02, 4.03428793e+02, 1.09663316e+03, 2.98095799e+03,\n",
              "       8.10308393e+03])"
            ]
          },
          "metadata": {},
          "execution_count": 6
        }
      ]
    },
    {
      "cell_type": "code",
      "source": [
        "# Min/Max\n",
        "np.max(np1)\n",
        "np.min(np1)"
      ],
      "metadata": {
        "colab": {
          "base_uri": "https://localhost:8080/"
        },
        "id": "8BVjyKHGWQDf",
        "outputId": "c2b23797-f968-4f10-a656-84ca10a3eb81"
      },
      "execution_count": 9,
      "outputs": [
        {
          "output_type": "execute_result",
          "data": {
            "text/plain": [
              "-3"
            ]
          },
          "metadata": {},
          "execution_count": 9
        }
      ]
    },
    {
      "cell_type": "code",
      "source": [
        "# Sign positive or negative\n",
        "np.sign(np1)"
      ],
      "metadata": {
        "colab": {
          "base_uri": "https://localhost:8080/"
        },
        "id": "GgnDLGo3Wp1F",
        "outputId": "cbeb8a95-aca6-45ba-971b-de271498bf8b"
      },
      "execution_count": 10,
      "outputs": [
        {
          "output_type": "execute_result",
          "data": {
            "text/plain": [
              "array([-1, -1, -1,  0,  1,  1,  1,  1,  1,  1,  1,  1,  1])"
            ]
          },
          "metadata": {},
          "execution_count": 10
        }
      ]
    },
    {
      "cell_type": "code",
      "source": [
        "# Trigonometry: sin, cos, log\n",
        "\n",
        "# np.sin(np1)\n",
        "# np1\n",
        "\n",
        "# np.cos(np1)\n",
        "# np1\n",
        "\n",
        "# np.log(np1)\n",
        "# np1"
      ],
      "metadata": {
        "id": "ziy6w9Q6Wpku"
      },
      "execution_count": 15,
      "outputs": []
    }
  ]
}