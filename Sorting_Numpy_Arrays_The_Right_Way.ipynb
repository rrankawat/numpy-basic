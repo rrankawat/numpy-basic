{
  "nbformat": 4,
  "nbformat_minor": 0,
  "metadata": {
    "colab": {
      "provenance": [],
      "authorship_tag": "ABX9TyOI+GlpQywoGjucHTHMD60/",
      "include_colab_link": true
    },
    "kernelspec": {
      "name": "python3",
      "display_name": "Python 3"
    },
    "language_info": {
      "name": "python"
    }
  },
  "cells": [
    {
      "cell_type": "markdown",
      "metadata": {
        "id": "view-in-github",
        "colab_type": "text"
      },
      "source": [
        "<a href=\"https://colab.research.google.com/github/rrankawat/numpy-basic/blob/main/Sorting_Numpy_Arrays_The_Right_Way.ipynb\" target=\"_parent\"><img src=\"https://colab.research.google.com/assets/colab-badge.svg\" alt=\"Open In Colab\"/></a>"
      ]
    },
    {
      "cell_type": "markdown",
      "source": [
        "# Sorting Numpy Arrays The Right Way - Numpy For Machine Learning 7"
      ],
      "metadata": {
        "id": "FDnH2TQ7Jt9w"
      }
    },
    {
      "cell_type": "code",
      "execution_count": 1,
      "metadata": {
        "id": "M4PUJWg1IyUP"
      },
      "outputs": [],
      "source": [
        "import numpy as np"
      ]
    },
    {
      "cell_type": "code",
      "source": [
        "# np.sort()\n",
        "np1 = np.array([6, 7, 9, 0, 2, 1])\n",
        "\n",
        "print(np.sort(np1))"
      ],
      "metadata": {
        "colab": {
          "base_uri": "https://localhost:8080/"
        },
        "id": "V6ou9XhfJ6hM",
        "outputId": "008f35da-6ab2-473d-c3ab-5bb944913fa7"
      },
      "execution_count": 2,
      "outputs": [
        {
          "output_type": "stream",
          "name": "stdout",
          "text": [
            "[0 1 2 6 7 9]\n"
          ]
        }
      ]
    },
    {
      "cell_type": "code",
      "source": [
        "# Alphabtical\n",
        "np2 = np.array([\"John\", \"Tara\", \"Aaron\", \"Zed\"])\n",
        "\n",
        "print(np.sort(np2))"
      ],
      "metadata": {
        "colab": {
          "base_uri": "https://localhost:8080/"
        },
        "id": "jIqKvH7yKPo-",
        "outputId": "68b6a404-b149-4ba1-ba70-31bbe4456629"
      },
      "execution_count": 4,
      "outputs": [
        {
          "output_type": "stream",
          "name": "stdout",
          "text": [
            "['Aaron' 'John' 'Tara' 'Zed']\n"
          ]
        }
      ]
    },
    {
      "cell_type": "code",
      "source": [
        "# Booleans T/F\n",
        "np3 = np.array([True, False, False, True])\n",
        "\n",
        "print(np.sort(np3))"
      ],
      "metadata": {
        "colab": {
          "base_uri": "https://localhost:8080/"
        },
        "id": "fllpiTSoKiko",
        "outputId": "356fa32b-908d-4899-87aa-8af8a7ebe86b"
      },
      "execution_count": 5,
      "outputs": [
        {
          "output_type": "stream",
          "name": "stdout",
          "text": [
            "[False False  True  True]\n"
          ]
        }
      ]
    },
    {
      "cell_type": "code",
      "source": [
        "# Return a copy not change the original\n",
        "print(np1)\n",
        "print(np.sort(np1))"
      ],
      "metadata": {
        "colab": {
          "base_uri": "https://localhost:8080/"
        },
        "id": "9_sfv4BhNQEB",
        "outputId": "76712b51-d6ff-41bb-8870-d37a4723a652"
      },
      "execution_count": 6,
      "outputs": [
        {
          "output_type": "stream",
          "name": "stdout",
          "text": [
            "[6 7 9 0 2 1]\n",
            "[0 1 2 6 7 9]\n"
          ]
        }
      ]
    },
    {
      "cell_type": "code",
      "source": [
        "# 2-D\n",
        "np4 = np.array([[6, 7, 1, 9], [8, 3, 5, 0]])\n",
        "\n",
        "print(np4)\n",
        "print(np.sort(np4))"
      ],
      "metadata": {
        "colab": {
          "base_uri": "https://localhost:8080/"
        },
        "id": "DpniLBtANjr7",
        "outputId": "dba5fa9c-cdb6-42a5-fa1e-7754fc173570"
      },
      "execution_count": 8,
      "outputs": [
        {
          "output_type": "stream",
          "name": "stdout",
          "text": [
            "[[6 7 1 9]\n",
            " [8 3 5 0]]\n",
            "[[1 6 7 9]\n",
            " [0 3 5 8]]\n"
          ]
        }
      ]
    }
  ]
}