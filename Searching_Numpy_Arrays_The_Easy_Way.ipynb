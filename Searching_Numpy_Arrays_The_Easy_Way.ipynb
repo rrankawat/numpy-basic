{
  "nbformat": 4,
  "nbformat_minor": 0,
  "metadata": {
    "colab": {
      "provenance": [],
      "authorship_tag": "ABX9TyPfnD48sEE6KEBn6+SuNyyC",
      "include_colab_link": true
    },
    "kernelspec": {
      "name": "python3",
      "display_name": "Python 3"
    },
    "language_info": {
      "name": "python"
    }
  },
  "cells": [
    {
      "cell_type": "markdown",
      "metadata": {
        "id": "view-in-github",
        "colab_type": "text"
      },
      "source": [
        "<a href=\"https://colab.research.google.com/github/rrankawat/numpy-basic/blob/main/Searching_Numpy_Arrays_The_Easy_Way.ipynb\" target=\"_parent\"><img src=\"https://colab.research.google.com/assets/colab-badge.svg\" alt=\"Open In Colab\"/></a>"
      ]
    },
    {
      "cell_type": "markdown",
      "source": [
        "# Searching Numpy Arrays The Easy Way - Numpy For Machine Learning 8"
      ],
      "metadata": {
        "id": "R455E8IpOfU4"
      }
    },
    {
      "cell_type": "code",
      "execution_count": 2,
      "metadata": {
        "id": "5lyVsKcTOdEm"
      },
      "outputs": [],
      "source": [
        "import numpy as np"
      ]
    },
    {
      "cell_type": "code",
      "source": [
        "# Search\n",
        "np1 = np.array([1, 2, 3, 4, 5, 6, 7, 8, 3, 9, 10, 3])\n",
        "x = np.where(np1 == 3)\n",
        "\n",
        "print(x[0])\n",
        "print(np1[x[0]])"
      ],
      "metadata": {
        "colab": {
          "base_uri": "https://localhost:8080/"
        },
        "id": "5LUQdZOwVT4h",
        "outputId": "83e1a7f7-064e-439e-d336-bb39b67267dc"
      },
      "execution_count": 7,
      "outputs": [
        {
          "output_type": "stream",
          "name": "stdout",
          "text": [
            "[ 2  8 11]\n",
            "[3 3 3]\n"
          ]
        }
      ]
    },
    {
      "cell_type": "code",
      "source": [
        "# Return even items\n",
        "y = np.where(np1 % 2 == 0)\n",
        "\n",
        "print(y[0])"
      ],
      "metadata": {
        "colab": {
          "base_uri": "https://localhost:8080/"
        },
        "id": "_XKV20wUWkIU",
        "outputId": "e3e00189-ca36-4d28-ed66-9f07b46664c9"
      },
      "execution_count": 9,
      "outputs": [
        {
          "output_type": "stream",
          "name": "stdout",
          "text": [
            "[ 1  3  5  7 10]\n"
          ]
        }
      ]
    },
    {
      "cell_type": "code",
      "source": [
        "# Return odd items\n",
        "z = np.where(np1 % 2 == 1)\n",
        "\n",
        "print(z[0])"
      ],
      "metadata": {
        "colab": {
          "base_uri": "https://localhost:8080/"
        },
        "id": "sye7hAaMW-Wz",
        "outputId": "60782551-4bd0-4292-da44-35873740180f"
      },
      "execution_count": 11,
      "outputs": [
        {
          "output_type": "stream",
          "name": "stdout",
          "text": [
            "[ 0  2  4  6  8  9 11]\n"
          ]
        }
      ]
    }
  ]
}